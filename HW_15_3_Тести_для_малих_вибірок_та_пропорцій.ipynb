{
  "cells": [
    {
      "cell_type": "markdown",
      "id": "e152f6d6",
      "metadata": {
        "ExecuteTime": {
          "end_time": "2022-12-10T14:29:24.703416Z",
          "start_time": "2022-12-10T14:29:24.688485Z"
        },
        "id": "e152f6d6"
      },
      "source": [
        "# Тести для малих вибірок та пропорцій\n",
        "\n"
      ]
    },
    {
      "cell_type": "markdown",
      "id": "abdcef5d",
      "metadata": {
        "id": "abdcef5d"
      },
      "source": [
        "**Завдання 1**. E-commerce компанія після редизайну сайту підозрює, що **середній час до покупки (time-to-purchase)** користувачів **збільшився**.\n",
        "Історично середній час від першого заходу на сайт до покупки становив $\\mu_0 = 123.7$ хвилин.\n",
        "\n",
        "Команда аналітиків випадково обрала дані **7 покупців після редизайну**:\n",
        "`128, 135, 121, 142, 126, 151, 123`\n",
        "\n",
        "З допомогою наявних даних зʼясуйте, чи збільшився середній час покупки після редизайну.\n",
        "\n",
        "Для цього виконайте наступні 6 кроків. Правильне виконання кожного з кроків оцінюється в 1 бал.\n",
        "\n",
        "1. Запишіть нульову та альтернативну гіпотези і визначте тип тесту.\n",
        "2. Обчисліть вибіркові статистики: $\\bar x$, $s$, $n$.\n",
        "3. Оберіть тип тесту та виконайте його (знайдіть критичне значення тесту, статистику тесту та р-значення) будь-яким пасуючим способом, щоб перевірити гіпотезу на рівні значущості $\\alpha = 0.10$.\n",
        "4. Прийміть рішення, чи відхиляєте ви гіпотезу $H_0$ використовуючи p-value.\n",
        "5. Напишіть висновок: чи справді редизайн сайту подовжив час до покупки?\n",
        "6. Чи зміниться ваше рішення при зміні рівня значущості на $\\alpha = 0.05$.\n"
      ]
    },
    {
      "cell_type": "code",
      "execution_count": 5,
      "id": "BcS4cm11QYpT",
      "metadata": {
        "id": "BcS4cm11QYpT"
      },
      "outputs": [
        {
          "name": "stdout",
          "output_type": "stream",
          "text": [
            "Вибіркове середнє x̄ = 132.286\n",
            "Стандартне відхилення s = 10.981\n",
            "Кількість спостережень n = 7\n",
            "\n",
            "T-статистика = 2.069\n",
            "Критичне значення t(α=0.1) = 1.440\n",
            "p-value = 0.0420\n",
            "Відхиляємо H₀: середній час до покупки збільшився після редизайну.\n"
          ]
        }
      ],
      "source": [
        "import numpy as np\n",
        "from scipy import stats\n",
        "\n",
        "# Дані з умови\n",
        "times = np.array([128, 135, 121, 142, 126, 151, 123])\n",
        "mu0 = 123.7      # історичне середнє\n",
        "alpha = 0.10     # рівень значущості\n",
        "\n",
        "# Крок 1. Обчислюємо вибіркові статистики\n",
        "x_bar = np.mean(times)\n",
        "s = np.std(times, ddof=1)    # стандартне відхилення (n-1)\n",
        "n = len(times)\n",
        "\n",
        "print(f\"Вибіркове середнє x̄ = {x_bar:.3f}\")\n",
        "print(f\"Стандартне відхилення s = {s:.3f}\")\n",
        "print(f\"Кількість спостережень n = {n}\")\n",
        "\n",
        "# Крок 2. Обчислюємо t-статистику вручну\n",
        "t_stat = (x_bar - mu0) / (s / np.sqrt(n))\n",
        "df = n - 1\n",
        "\n",
        "# Крок 3. Критичне значення для правостороннього тесту\n",
        "t_crit = stats.t.ppf(1 - alpha, df)\n",
        "\n",
        "# Крок 4. Обчислюємо p-value (для правого хвоста)\n",
        "p_value = 1 - stats.t.cdf(t_stat, df)\n",
        "\n",
        "print(f\"\\nT-статистика = {t_stat:.3f}\")\n",
        "print(f\"Критичне значення t(α={alpha}) = {t_crit:.3f}\")\n",
        "print(f\"p-value = {p_value:.4f}\")\n",
        "\n",
        "# Крок 5. Висновок\n",
        "if p_value < alpha:\n",
        "    print(\"Відхиляємо H₀: середній час до покупки збільшився після редизайну.\")\n",
        "else:\n",
        "    print(\" Не відхиляємо H₀: недостатньо доказів, що час збільшився.\")\n"
      ]
    },
    {
      "cell_type": "markdown",
      "id": "5govLcx8FPSl",
      "metadata": {
        "id": "5govLcx8FPSl"
      },
      "source": [
        "**Завдання 2.**\n",
        "\n",
        "До спеціальної рекламної кампанії **23%** дорослих упізнавали логотип компанії. Після завершення кампанії відділ маркетингу провів опитування: з **1200** випадково відібраних дорослих **311** упізнали логотип.\n",
        "\n",
        "Перевірте на рівні значущості **3%** ($\\alpha=0.03$), чи дають ці дані достатні підстави стверджувати, що **тепер більше ніж 23%** дорослих упізнають логотип компанії. Для розвʼязку використовуйте бібліотеку `statsmodels`.\n",
        "\n",
        "Зробіть висновок, чи зросла впізнаваність логотипу.\n",
        "\n",
        "Додатково, обчисліть довірчий інтревал на заданому рівні значущості і проінтерпретуйте текстом - як він додатково пояснює прийняте нами рішення?"
      ]
    },
    {
      "cell_type": "code",
      "execution_count": 6,
      "id": "rcplRfotId51",
      "metadata": {
        "id": "rcplRfotId51"
      },
      "outputs": [
        {
          "name": "stdout",
          "output_type": "stream",
          "text": [
            "🔹 Тест для однієї пропорції\n",
            "Z-статистика = 2.306\n",
            "p-value = 0.0106\n",
            "97% довірчий інтервал: (0.23171700302179205, 0.28661633031154127)\n",
            " Відхиляємо H₀: частка впізнаваності логотипу зросла.\n"
          ]
        }
      ],
      "source": [
        "from statsmodels.stats.proportion import proportions_ztest, proportion_confint\n",
        "\n",
        "# Дані\n",
        "count = 311      # кількість, що впізнали логотип\n",
        "nobs = 1200      # загальна кількість опитаних\n",
        "p0 = 0.23        # історична пропорція\n",
        "alpha = 0.03     # рівень значущості\n",
        "\n",
        "# 1. z-тест для пропорції (односторонній, 'larger')\n",
        "stat, pval = proportions_ztest(count, nobs, p0, alternative='larger')\n",
        "\n",
        "# 2. Довірчий інтервал (на рівні 97%)\n",
        "confint = proportion_confint(count, nobs, alpha=alpha, method='normal')\n",
        "\n",
        "print(\"🔹 Тест для однієї пропорції\")\n",
        "print(f\"Z-статистика = {stat:.3f}\")\n",
        "print(f\"p-value = {pval:.4f}\")\n",
        "print(f\"{(1-alpha)*100:.0f}% довірчий інтервал: {confint}\")\n",
        "\n",
        "# Рішення\n",
        "if pval < alpha:\n",
        "    print(\" Відхиляємо H₀: частка впізнаваності логотипу зросла.\")\n",
        "else:\n",
        "    print(\" Не відхиляємо H₀: недостатньо доказів зростання частки.\")\n"
      ]
    }
  ],
  "metadata": {
    "colab": {
      "provenance": []
    },
    "hide_input": false,
    "kernelspec": {
      "display_name": "Python 3 (ipykernel)",
      "language": "python",
      "name": "python3"
    },
    "language_info": {
      "codemirror_mode": {
        "name": "ipython",
        "version": 3
      },
      "file_extension": ".py",
      "mimetype": "text/x-python",
      "name": "python",
      "nbconvert_exporter": "python",
      "pygments_lexer": "ipython3",
      "version": "3.12.7"
    },
    "toc": {
      "base_numbering": 1,
      "nav_menu": {},
      "number_sections": true,
      "sideBar": true,
      "skip_h1_title": false,
      "title_cell": "Table of Contents",
      "title_sidebar": "Contents",
      "toc_cell": false,
      "toc_position": {},
      "toc_section_display": true,
      "toc_window_display": false
    },
    "varInspector": {
      "cols": {
        "lenName": 16,
        "lenType": 16,
        "lenVar": 40
      },
      "kernels_config": {
        "python": {
          "delete_cmd_postfix": "",
          "delete_cmd_prefix": "del ",
          "library": "var_list.py",
          "varRefreshCmd": "print(var_dic_list())"
        },
        "r": {
          "delete_cmd_postfix": ") ",
          "delete_cmd_prefix": "rm(",
          "library": "var_list.r",
          "varRefreshCmd": "cat(var_dic_list()) "
        }
      },
      "types_to_exclude": [
        "module",
        "function",
        "builtin_function_or_method",
        "instance",
        "_Feature"
      ],
      "window_display": false
    }
  },
  "nbformat": 4,
  "nbformat_minor": 5
}
