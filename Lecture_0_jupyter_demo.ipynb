{
 "cells": [
  {
   "cell_type": "markdown",
   "metadata": {
    "id": "2oL3UQcUiF6l"
   },
   "source": [
    "# Вступ\n",
    "Мене **звати** Іван!   \n",
    "\n",
    "Я пишу код на *Python*!\n",
    "\n",
    "Ця програма робить щось корисне."
   ]
  },
  {
   "cell_type": "code",
   "execution_count": 1,
   "metadata": {
    "execution": {
     "iopub.execute_input": "2025-06-04T19:14:29.339008Z",
     "iopub.status.busy": "2025-06-04T19:14:29.338407Z",
     "iopub.status.idle": "2025-06-04T19:14:29.343708Z",
     "shell.execute_reply": "2025-06-04T19:14:29.342782Z",
     "shell.execute_reply.started": "2025-06-04T19:14:29.338980Z"
    },
    "id": "sprUE9FMiF6p"
   },
   "outputs": [
    {
     "name": "stdout",
     "output_type": "stream",
     "text": [
      "Hello world!\n"
     ]
    }
   ],
   "source": [
    "print('Hello world!')"
   ]
  },
  {
   "cell_type": "code",
   "execution_count": 2,
   "metadata": {
    "execution": {
     "iopub.execute_input": "2025-06-04T19:14:31.609689Z",
     "iopub.status.busy": "2025-06-04T19:14:31.609222Z",
     "iopub.status.idle": "2025-06-04T19:14:31.613407Z",
     "shell.execute_reply": "2025-06-04T19:14:31.612702Z",
     "shell.execute_reply.started": "2025-06-04T19:14:31.609660Z"
    },
    "id": "_neQgyJhiF6r"
   },
   "outputs": [
    {
     "data": {
      "text/plain": [
       "140"
      ]
     },
     "execution_count": 2,
     "metadata": {},
     "output_type": "execute_result"
    }
   ],
   "source": [
    "120+20"
   ]
  },
  {
   "cell_type": "markdown",
   "metadata": {
    "id": "OwXfKtgZiF6r"
   },
   "source": [
    "## Розділ 1\n",
    "просто текст\n",
    "\n",
    "### Підрозділ\n",
    "\n",
    "## Розділ 2"
   ]
  },
  {
   "cell_type": "code",
   "execution_count": null,
   "metadata": {
    "colab": {
     "background_save": true
    },
    "id": "vHtOqcLpiF6s"
   },
   "outputs": [],
   "source": [
    "import time\n",
    "\n",
    "for i in range(10):\n",
    "    print(i)\n",
    "    time.sleep(30)"
   ]
  },
  {
   "cell_type": "code",
   "execution_count": null,
   "metadata": {
    "colab": {
     "background_save": true
    },
    "id": "lwi68wJTiF6s"
   },
   "outputs": [],
   "source": [
    "my_list = [1, 2, 3, 4]"
   ]
  },
  {
   "cell_type": "code",
   "execution_count": null,
   "metadata": {
    "colab": {
     "background_save": true
    },
    "id": "J1v2i3hWiF6s"
   },
   "outputs": [],
   "source": [
    "my_list"
   ]
  },
  {
   "cell_type": "markdown",
   "metadata": {
    "id": "0S3ZoqbqiF6t"
   },
   "source": [
    "В мене є список\n",
    "* Один\n",
    "    - підсписок\n",
    "        - це\n",
    "  - інший підписок\n",
    "        - то\n",
    "        - і ще то\n",
    "* два\n",
    "  - підсписок"
   ]
  },
  {
   "cell_type": "code",
   "execution_count": null,
   "metadata": {
    "colab": {
     "background_save": true
    },
    "id": "o_TLwslPiF6t"
   },
   "outputs": [],
   "source": [
    "[x**2 for x in range(-10, 11)]"
   ]
  },
  {
   "cell_type": "code",
   "execution_count": null,
   "metadata": {
    "colab": {
     "background_save": true
    },
    "id": "bhnCh7-fiF6u"
   },
   "outputs": [],
   "source": [
    "s = 'Hello world!'"
   ]
  },
  {
   "cell_type": "code",
   "execution_count": null,
   "metadata": {
    "colab": {
     "background_save": true
    },
    "id": "eDdgh4AaiF6u"
   },
   "outputs": [],
   "source": [
    "print(s)"
   ]
  },
  {
   "cell_type": "code",
   "execution_count": null,
   "metadata": {
    "colab": {
     "background_save": true
    },
    "id": "UQRN7yCHiF6u"
   },
   "outputs": [],
   "source": [
    "1+1\n",
    "print(2+22)\n",
    "3+3\n",
    "s"
   ]
  },
  {
   "cell_type": "code",
   "execution_count": null,
   "metadata": {
    "colab": {
     "background_save": true
    },
    "id": "omVOoOrsiF6u"
   },
   "outputs": [],
   "source": [
    "a = 'Hello everyone!'"
   ]
  },
  {
   "cell_type": "code",
   "execution_count": null,
   "metadata": {
    "colab": {
     "background_save": true
    },
    "id": "HmzhXdz6iF6v"
   },
   "outputs": [],
   "source": [
    "a"
   ]
  },
  {
   "cell_type": "code",
   "execution_count": null,
   "metadata": {
    "colab": {
     "background_save": true
    },
    "id": "XvWyCrjQiF6v"
   },
   "outputs": [],
   "source": [
    "import matplotlib.pyplot as plt\n",
    "import numpy as np"
   ]
  },
  {
   "cell_type": "code",
   "execution_count": null,
   "metadata": {
    "colab": {
     "background_save": true
    },
    "id": "1MQpGGDOiF6v"
   },
   "outputs": [],
   "source": [
    "plt.plot(np.sin(range(20)));"
   ]
  },
  {
   "cell_type": "markdown",
   "metadata": {
    "id": "Rwn_z8I-iF6v"
   },
   "source": [
    "## Розділ 3"
   ]
  },
  {
   "cell_type": "code",
   "execution_count": null,
   "metadata": {
    "colab": {
     "background_save": true
    },
    "id": "LdWkw7hXiF6v"
   },
   "outputs": [],
   "source": [
    "a = 1\n",
    "b = 2\n",
    "a + b"
   ]
  },
  {
   "cell_type": "code",
   "execution_count": null,
   "metadata": {
    "colab": {
     "background_save": true
    },
    "id": "7wt1mxE6iF6v"
   },
   "outputs": [],
   "source": [
    "a/b"
   ]
  },
  {
   "cell_type": "code",
   "execution_count": null,
   "metadata": {
    "colab": {
     "background_save": true
    },
    "id": "tSJiEaU6iF6w"
   },
   "outputs": [],
   "source": []
  }
 ],
 "metadata": {
  "colab": {
   "provenance": []
  },
  "kernelspec": {
   "display_name": "Python 3 (ipykernel)",
   "language": "python",
   "name": "python3"
  },
  "language_info": {
   "codemirror_mode": {
    "name": "ipython",
    "version": 3
   },
   "file_extension": ".py",
   "mimetype": "text/x-python",
   "name": "python",
   "nbconvert_exporter": "python",
   "pygments_lexer": "ipython3",
   "version": "3.12.7"
  },
  "toc": {
   "base_numbering": 1,
   "nav_menu": {},
   "number_sections": true,
   "sideBar": true,
   "skip_h1_title": false,
   "title_cell": "Table of Contents",
   "title_sidebar": "Contents",
   "toc_cell": false,
   "toc_position": {},
   "toc_section_display": true,
   "toc_window_display": true
  }
 },
 "nbformat": 4,
 "nbformat_minor": 4
}
