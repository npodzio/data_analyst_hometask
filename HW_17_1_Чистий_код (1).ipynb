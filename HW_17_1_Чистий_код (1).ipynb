{
  "cells": [
    {
      "cell_type": "markdown",
      "id": "aed503f1",
      "metadata": {
        "ExecuteTime": {
          "end_time": "2023-07-27T20:14:32.871852Z",
          "start_time": "2023-07-27T20:14:31.036121Z"
        },
        "id": "aed503f1"
      },
      "source": [
        "У завданнях 1-4. Вам наданий простий код на Python, який не відповідає вказівкам PEP8. Ваше завдання — відредагувати код так, аби він відповідав PEP8. Напишіть після редагуванню коду, дотримання яких правил з pep8 ви досягли в відредагованій версі, наприклад\n",
        "```\n",
        "- додала пробіли навколо бінарного оператора\n",
        "- додала два порожні рядки між визначеннями функцій\n",
        "і тд\n",
        "```\n",
        "Також можна зазанчити використані правила коментарями по коду, а не окремим повідомленням.\n",
        "\n",
        "Відредагований код має виконувати весь той самий функціонал, але бути написаний відповідно до вимог до гарного коду на Python! Не забудьте запустити відредагований код, він має бути робочим."
      ]
    },
    {
      "cell_type": "markdown",
      "id": "e7fea147",
      "metadata": {
        "id": "e7fea147"
      },
      "source": [
        "Завдання 1."
      ]
    },
    {
      "cell_type": "code",
      "execution_count": 3,
      "id": "f63d84d7",
      "metadata": {
        "ExecuteTime": {
          "end_time": "2023-07-29T17:02:37.075783Z",
          "start_time": "2023-07-29T17:02:37.035259Z"
        },
        "id": "f63d84d7"
      },
      "outputs": [
        {
          "name": "stdout",
          "output_type": "stream",
          "text": [
            "Hello, John\n"
          ]
        },
        {
          "data": {
            "text/plain": [
              "None"
            ]
          },
          "metadata": {},
          "output_type": "display_data"
        },
        {
          "data": {
            "text/plain": [
              "8"
            ]
          },
          "metadata": {},
          "output_type": "display_data"
        }
      ],
      "source": [
        "def greet(name):print(f\"Hello, {name}\")\n",
        "def add(n1,n2):return n1+n2\n",
        "\n",
        "x = 5;y = 3\n",
        "display(greet(\"John\"),add(x,y))\n"
      ]
    },
    {
      "cell_type": "code",
      "execution_count": 4,
      "id": "41b7e672",
      "metadata": {
        "id": "41b7e672"
      },
      "outputs": [
        {
          "name": "stdout",
          "output_type": "stream",
          "text": [
            "Hello, John\n"
          ]
        },
        {
          "data": {
            "text/plain": [
              "None"
            ]
          },
          "metadata": {},
          "output_type": "display_data"
        },
        {
          "data": {
            "text/plain": [
              "8"
            ]
          },
          "metadata": {},
          "output_type": "display_data"
        }
      ],
      "source": [
        "#  Додала два порожні рядки між функціями \n",
        "#  Перенесла print на новий рядок, не можна писати код після двокрапки\n",
        "def greet(name):\n",
        "    print(f\"Hello, {name}\")\n",
        "\n",
        "\n",
        "#  Додала два порожні рядки між функціями \n",
        "#  Додала пробіли після коми і навколо оператора + для кращої читабельності\n",
        "def add(n1, n2):\n",
        "    return n1 + n2\n",
        "\n",
        "\n",
        "# Перенесла variable на другий рядок\n",
        "x = 5\n",
        "y = 3\n",
        "\n",
        "#  Додала пробіли після ком у функції add(x,y))\n",
        "display(greet(\"John\"), add(x, y))\n",
        "\n"
      ]
    },
    {
      "cell_type": "markdown",
      "id": "cea88baf",
      "metadata": {
        "id": "cea88baf"
      },
      "source": [
        "Завдання 2."
      ]
    },
    {
      "cell_type": "code",
      "execution_count": 5,
      "id": "dfb6d2b5",
      "metadata": {
        "ExecuteTime": {
          "end_time": "2023-07-29T17:05:49.706098Z",
          "start_time": "2023-07-29T17:05:49.688255Z"
        },
        "id": "dfb6d2b5"
      },
      "outputs": [
        {
          "name": "stdout",
          "output_type": "stream",
          "text": [
            "Area: 78.53981633974483 Circumference: 31.41592653589793\n"
          ]
        }
      ],
      "source": [
        "from math import *\n",
        "def calcArea(r):return pi*r**2\n",
        "def calcCircumference(r):return 2*pi*r\n",
        "\n",
        "radius=5\n",
        "print(\"Area:\",calcArea(radius),\"Circumference:\",calcCircumference(radius))"
      ]
    },
    {
      "cell_type": "code",
      "execution_count": 6,
      "id": "df263672",
      "metadata": {
        "id": "df263672"
      },
      "outputs": [
        {
          "name": "stdout",
          "output_type": "stream",
          "text": [
            "Area: 78.53981633974483 Circumference: 31.41592653589793\n"
          ]
        }
      ],
      "source": [
        "# Імпорт має бути в окремому рядку \n",
        "from math import *\n",
        "\n",
        "# Додала два порожні рядки між функціями\n",
        "# Перенесла \"return pi * r ** 2\" на новий рядок, не можна писати код після двокрапки\n",
        "# Додала пробіли навколо операторів =, *, **\n",
        "def calcArea(r):\n",
        "    return pi * r ** 2\n",
        "\n",
        "\n",
        "# Пробіли навколо операторів\n",
        "# Два порожні рядки між функціями\n",
        "def calcCircumference(r):\n",
        "    return 2 * pi * r\n",
        "\n",
        "\n",
        "# Пробіли навколо оператора =\n",
        "radius = 5\n",
        "\n",
        "#  Пробіли після ком у викликах функцій\n",
        "print(\"Area:\", calcArea(radius), \"Circumference:\", calcCircumference(radius))\n"
      ]
    },
    {
      "cell_type": "markdown",
      "id": "1fd691b7",
      "metadata": {
        "id": "1fd691b7"
      },
      "source": [
        "Завдання 3."
      ]
    },
    {
      "cell_type": "code",
      "execution_count": 7,
      "id": "1d5acb2d",
      "metadata": {
        "ExecuteTime": {
          "end_time": "2023-07-29T17:06:18.612622Z",
          "start_time": "2023-07-29T17:06:18.598477Z"
        },
        "id": "1d5acb2d"
      },
      "outputs": [],
      "source": [
        "class animal: pass\n",
        "class dog(animal):\n",
        "    def __init__(self,name):\n",
        "        self.name=name\n",
        "        self.type='Dog'"
      ]
    },
    {
      "cell_type": "code",
      "execution_count": 8,
      "id": "0d4b2b8a",
      "metadata": {
        "id": "0d4b2b8a"
      },
      "outputs": [],
      "source": [
        "# Назва класу має бути з великої літери\n",
        "# Перенесла pass на новий рядок, не можна писати код після двокрапки\n",
        "class Animal:\n",
        "    pass\n",
        "\n",
        "\n",
        "# Додала два порожні рядки між класами\n",
        "# Назва класу має бути з великої літери\n",
        "# Пробіли після ком і навколо = у присвоєннях\n",
        "\n",
        "class Dog(Animal):\n",
        "    def __init__(self, name):\n",
        "        self.name = name\n",
        "        self.type = \"Dog\""
      ]
    },
    {
      "cell_type": "markdown",
      "id": "7d1d4f5d",
      "metadata": {
        "id": "7d1d4f5d"
      },
      "source": [
        "Завдання 4."
      ]
    },
    {
      "cell_type": "code",
      "execution_count": 9,
      "id": "a91c1cc4",
      "metadata": {
        "ExecuteTime": {
          "end_time": "2023-07-29T17:06:47.180263Z",
          "start_time": "2023-07-29T17:06:47.173617Z"
        },
        "id": "a91c1cc4"
      },
      "outputs": [
        {
          "name": "stdout",
          "output_type": "stream",
          "text": [
            "1\n",
            "2\n",
            "3\n",
            "4\n",
            "5\n"
          ]
        }
      ],
      "source": [
        "list=[1,2,3,4,5]\n",
        "for i in range(len(list)):print(list[i])"
      ]
    },
    {
      "cell_type": "code",
      "execution_count": 10,
      "id": "c0f9541a",
      "metadata": {
        "id": "c0f9541a"
      },
      "outputs": [
        {
          "name": "stdout",
          "output_type": "stream",
          "text": [
            "1\n",
            "2\n",
            "3\n",
            "4\n",
            "5\n"
          ]
        }
      ],
      "source": [
        "# Не варто називати змінну \"list\", бо це вже існуючий тип данних в Python, краще використати іншу назву для змінної \n",
        "# Додала пробіли після ком.\n",
        "numbers = [1, 2, 3, 4, 5]\n",
        "\n",
        "# Перенесла print(list[i]) на новий рядок, не можна писати код після двокрапки\n",
        "for i in range(len(numbers)):\n",
        "    print(numbers[i])\n"
      ]
    },
    {
      "cell_type": "markdown",
      "id": "8b0487e6",
      "metadata": {
        "id": "8b0487e6"
      },
      "source": [
        "5.У вас є DataFrame df, що представляє результати тестів студентів з математики, англійської мови та історії. Поточний код обчислює середній бал для кожного студента шляхом ітерації за рядками DataFrame за допомогою iterrows().\n",
        "\n",
        "Ваше завдання полягає в тому, щоб змінити код так, аби уникнути використання iterrows() і замість цього застосувати більш ефективне та читабельне рішення відповідно до правил, озвучених у лекції. Рефакторинг треба зробити лише частині, де рахуються середні, імпорт і визначення датафрейму лишаємо без змін."
      ]
    },
    {
      "cell_type": "code",
      "execution_count": 12,
      "id": "5b3cc648",
      "metadata": {
        "ExecuteTime": {
          "end_time": "2023-07-29T17:15:55.926882Z",
          "start_time": "2023-07-29T17:15:55.686415Z"
        },
        "id": "5b3cc648"
      },
      "outputs": [],
      "source": [
        "import pandas as pd\n",
        "\n",
        "df = pd.DataFrame({\n",
        "    'student': ['Alice', 'Bob', 'Charlie', 'David'],\n",
        "    'math_score': [89, 94, 77, 85],\n",
        "    'english_score': [92, 88, 79, 85],\n",
        "    'history_score': [84, 92, 81, 89]\n",
        "})"
      ]
    },
    {
      "cell_type": "code",
      "execution_count": 13,
      "id": "f5858889",
      "metadata": {
        "ExecuteTime": {
          "end_time": "2023-07-29T17:15:55.926882Z",
          "start_time": "2023-07-29T17:15:55.686415Z"
        },
        "id": "f5858889"
      },
      "outputs": [],
      "source": [
        "averages = []\n",
        "for _, row in df.iterrows():\n",
        "    averages.append((row['math_score'] + row['english_score'] + row['history_score']) / 3)\n",
        "\n",
        "df['average_score'] = averages"
      ]
    },
    {
      "cell_type": "code",
      "execution_count": 14,
      "id": "74cea4fc",
      "metadata": {
        "id": "74cea4fc"
      },
      "outputs": [],
      "source": [
        "import pandas as pd\n",
        "\n",
        "df = pd.DataFrame({\n",
        "    'student': ['Alice', 'Bob', 'Charlie', 'David'],\n",
        "    'math_score': [89, 94, 77, 85],\n",
        "    'english_score': [92, 88, 79, 85],\n",
        "    'history_score': [84, 92, 81, 89]\n",
        "})\n",
        "\n",
        "df['average_score'] = df[['math_score', 'english_score', 'history_score']].mean(axis=1)\n"
      ]
    },
    {
      "cell_type": "markdown",
      "id": "34fb1db9",
      "metadata": {
        "id": "34fb1db9"
      },
      "source": [
        "6.У Вас є великий DataFrame df, що представляє транзакції продажу в магазині. Цей DataFrame містить понад 1 мільйон рядків і кілька стовпців, зокрема «product_name», «product_category», «product_price» і «transaction_date».\n",
        "\n",
        "І «product_name», і «product_category» є рядками, що представляють численні, але обмежені унікальні назви продуктів і категорії відповідно.\n",
        "\n",
        "Напишіть код для ефективного перетворення стовпців «product_name» і «product_category» на категорійний тип для ефективного використання пам’яті.\n",
        "Спробуйте вирішити це завдання, мінімізуючи використання пам'яті та зберігаючи читабельність коду. Крім того, виміряйте використання пам’яті до та після перетворення, щоб продемонструвати підвищення ефективності.\n",
        "\n",
        "Порівняйте кількість памʼяті, яку займає наданий набір даних і новий, створений Вами. В лекції був приклад. В скільки разів менше памʼяті займає новий датафрейм?"
      ]
    },
    {
      "cell_type": "code",
      "execution_count": 17,
      "id": "d4926909",
      "metadata": {
        "ExecuteTime": {
          "end_time": "2023-07-29T21:19:30.009527Z",
          "start_time": "2023-07-29T21:19:29.595210Z"
        },
        "id": "d4926909"
      },
      "outputs": [],
      "source": [
        "import pandas as pd\n",
        "import numpy as np\n",
        "\n",
        "np.random.seed(0)\n",
        "\n",
        "products = ['apple', 'banana', 'cherry', 'dates', 'elderberry']\n",
        "categories = ['fruit', 'fruit', 'fruit', 'fruit', 'fruit']\n",
        "\n",
        "N_ROWS = 10**6\n",
        "df = pd.DataFrame({\n",
        "    'product_name': np.random.choice(products, N_ROWS),\n",
        "    'product_category': np.random.choice(categories, N_ROWS),\n",
        "    'product_price': np.random.uniform(1, 10, N_ROWS),\n",
        "    'transaction_date': pd.date_range(start='1/1/2000', periods=N_ROWS, freq='h')\n",
        "})\n"
      ]
    },
    {
      "cell_type": "code",
      "execution_count": 21,
      "id": "bf7fcc77",
      "metadata": {},
      "outputs": [
        {
          "name": "stdout",
          "output_type": "stream",
          "text": [
            "Memory BEFORE: 119.59 MB\n",
            "Memory AFTER : 17.17 MB\n"
          ]
        }
      ],
      "source": [
        "# Використання пам'яті до оптимізації\n",
        "mem_before = df.memory_usage(deep=True).sum()\n",
        "\n",
        "# Перетворюємо лише потрібні колонки в category\n",
        "df_opt = df.copy()\n",
        "cat_cols = ['product_name', 'product_category']\n",
        "df_opt[cat_cols] = df_opt[cat_cols].astype('category')\n",
        "\n",
        "# Використання пам'яті пісдя оптимізації\n",
        "mem_after = df_opt.memory_usage(deep=True).sum()\n",
        "\n",
        "\n",
        "# 4) Підсумки: MB, економія та у скільки разів менше\n",
        "to_mb = 1024 ** 2\n",
        "print(f\"Memory BEFORE: {mem_before / to_mb:.2f} MB\")\n",
        "print(f\"Memory AFTER : {mem_after / to_mb:.2f} MB\")\n"
      ]
    },
    {
      "cell_type": "markdown",
      "id": "131cc08d",
      "metadata": {
        "id": "131cc08d"
      },
      "source": [
        "7.В цьому завданні кілька пунктів. Треба виконати усі послідовно.   \n",
        "    7.1. Завантажте дані у pandas dataframe з файла `ecommerce_data.csv`. Обовʼязково при завантаженні вкажіть параметр `encoding = 'ISO-8859-1'`, без нього буде помилка.  \n",
        "    7.2. Заповніть пропущені значення в колонці CustomerID на -1 та перетворіть тип цієї колонки на str, адже зараз вона типу float, а це не правильний тип даних для ідентифікатора клієнта.  \n",
        "    7.3. З допомогою бібліотеки sweetviz побудуйте html звіт, який порівнює дані для країни \"Germany\" і країни \"France\". У Вас можуть виникнути багато попереджень (Warning), їх рекомендую вимкнути наступним шматком коду   \n",
        "    \n",
        "   \n",
        "    import warnings\n",
        "\n",
        "    with warnings.catch_warnings(record=True):\n",
        "        # your code\n",
        "    \n",
        "    \n",
        "   7.4.Напишіть 5 відмінностей для двох зазначених країн на основі побудованого звіту, без виконання додаткового аналізу іншими інструментами."
      ]
    },
    {
      "cell_type": "code",
      "execution_count": 31,
      "id": "17200e77",
      "metadata": {
        "id": "17200e77"
      },
      "outputs": [],
      "source": [
        "import warnings\n",
        "import pandas as pd\n",
        "import sweetviz as sv"
      ]
    },
    {
      "cell_type": "code",
      "execution_count": 35,
      "id": "a9f835f8",
      "metadata": {},
      "outputs": [
        {
          "data": {
            "application/vnd.jupyter.widget-view+json": {
              "model_id": "e90b1809f20b4ecab3383090e71d11e6",
              "version_major": 2,
              "version_minor": 0
            },
            "text/plain": [
              "                                             |          | [  0%]   00:00 -> (? left)"
            ]
          },
          "metadata": {},
          "output_type": "display_data"
        },
        {
          "name": "stdout",
          "output_type": "stream",
          "text": [
            "Report sweetviz_germany_vs_france.html was generated.\n"
          ]
        }
      ],
      "source": [
        "with warnings.catch_warnings(record=True):\n",
        "    warnings.simplefilter(\"ignore\")\n",
        "\n",
        "\n",
        "    df = pd.read_csv(\"/Users/nataliapodziolkina/Documents/data/ecommerce_data.csv\", encoding=\"ISO-8859-1\")\n",
        "\n",
        "    # 7.2. CustomerID: заповнюємо NaN на -1 та міняємо до str\n",
        "    df[\"CustomerID\"] = df[\"CustomerID\"].fillna(-1).astype(int).astype(str)\n",
        "\n",
        "    # 7.3. Звіту: порівняння Germany vs France\n",
        "    df_de = df[df[\"Country\"] == \"Germany\"].copy()\n",
        "    df_fr = df[df[\"Country\"] == \"France\"].copy()\n",
        "\n",
        "    #Зберігаємо звіт\n",
        "    report = sv.compare([df_de, \"Germany\"], [df_fr, \"France\"])\n",
        "\n",
        "    report.show_html(\"sweetviz_germany_vs_france.html\", open_browser=False)\n"
      ]
    },
    {
      "cell_type": "markdown",
      "id": "4e396d1d",
      "metadata": {},
      "source": [
        "   7.4.Напишіть 5 відмінностей для двох зазначених країн на основі побудованого звіту, без виконання додаткового аналізу іншими інструментами.\n",
        "\n",
        "1. У Німеччини більше InvoiceNo ( 9495) порівняно з Францією (8557).\n",
        "\n",
        "2. Кількість унікальних товарів (StockCode):\n",
        "У Німеччини 1 671 унікальний код, а у Франції 1543 — тобто асортимент товарів різийни \n",
        "\n",
        "3. У країн однаковий показник неописаних товарів, не дуже зрозуміла цей блок\n",
        "\n",
        "4. У Німеччини більше унікальних клієнтів 95 до 88 у Франції "
      ]
    },
    {
      "cell_type": "markdown",
      "id": "07ae375a",
      "metadata": {
        "ExecuteTime": {
          "end_time": "2023-07-30T18:55:42.650457Z",
          "start_time": "2023-07-30T18:55:42.635729Z"
        },
        "id": "07ae375a"
      },
      "source": [
        "8.З допомогою ChatGPT виявіть, чи є та які помилки в наступному коді.  \n",
        "Попросіть після цього переписати код із дотриманням PEP8. Проаналізуйте результат. Чи справді ChatGPT виправив всі стилістичні помилки? Якщо ні, напишіть йому ще кілька запитів, аби код відповідав вимогам PEP8.  \n",
        "Вставте фінальну версію коду з чату у ноутбук та запустіть на заданому списку. Має вертатись 50.  \n",
        "Напишіть, які промпти (інструкції) при зверненні до ChatGPT ви застосували та додайте скріншот(-и) з промптами та відповідями чата.  \n",
        "Якщо зробили висновки при виконанні цього завдання, то діліться також :)\n",
        "\n",
        "**ЯК ВСТАВИТИ СКРІНШОТ в Jupyter Notebook** :\n",
        "1. Створіть нову Markdown клітинку\n",
        "2. В новоствореній клітинці обираєте в меню Jupyter Notebook Edit -> Insert Image\n",
        "3. Обираєте картинку\n",
        "4. В клітинці має зʼявитись текст, який містить картинку. Запустіть клітинку.\n",
        "\n",
        "Або можна просто перетягнути картинку в Markdown клітинку."
      ]
    },
    {
      "cell_type": "code",
      "execution_count": 22,
      "id": "a5c010c4",
      "metadata": {
        "ExecuteTime": {
          "end_time": "2023-07-30T19:16:20.977219Z",
          "start_time": "2023-07-30T19:16:20.973688Z"
        },
        "id": "a5c010c4"
      },
      "outputs": [],
      "source": [
        "def CalculateVariance(nl):\n",
        "    sum_list = 0\n",
        "    for n in nl:\n",
        "        sum_list = sum_list + n\n",
        "    mean = sum_list / len(nl)\n",
        "    sum_squares = 0\n",
        "    for n in nl:\n",
        "        sum_squares = sum_squares + n**2\n",
        "    mean_squares = sum_squares / len(nl)\n",
        "    return mean_squares"
      ]
    },
    {
      "cell_type": "code",
      "execution_count": 23,
      "id": "24bb3f81",
      "metadata": {
        "ExecuteTime": {
          "end_time": "2023-07-30T19:16:09.201841Z",
          "start_time": "2023-07-30T19:16:09.199174Z"
        },
        "id": "24bb3f81"
      },
      "outputs": [],
      "source": [
        "input_list = [75, 80, 85, 90, 95]"
      ]
    },
    {
      "cell_type": "code",
      "execution_count": 26,
      "id": "03a78d39",
      "metadata": {},
      "outputs": [],
      "source": [
        "def calculate_variance(numbers):\n",
        "    total_sum = 0\n",
        "    for n in numbers:\n",
        "        total_sum = total_sum + n\n",
        "    mean = total_sum / len(numbers)\n",
        "\n",
        "    sum_squares = 0\n",
        "    for n in numbers:\n",
        "        sum_squares = sum_squares + n ** 2\n",
        "    mean_squares = sum_squares / len(numbers)\n",
        "\n",
        "    return mean_squares\n",
        "\n",
        "\n",
        "input_list = [75, 80, 85, 90, 95]\n"
      ]
    },
    {
      "cell_type": "code",
      "execution_count": 27,
      "id": "fb5315ca",
      "metadata": {},
      "outputs": [
        {
          "name": "stdout",
          "output_type": "stream",
          "text": [
            "50.0\n"
          ]
        }
      ],
      "source": [
        "def calculate_variance(numbers):\n",
        "    total_sum = 0\n",
        "    for n in numbers:\n",
        "        total_sum = total_sum + n\n",
        "    mean = total_sum / len(numbers)\n",
        "\n",
        "    sum_squared_diff = 0\n",
        "    for n in numbers:\n",
        "        sum_squared_diff = sum_squared_diff + (n - mean) ** 2\n",
        "    variance = sum_squared_diff / len(numbers)\n",
        "\n",
        "    return variance\n",
        "\n",
        "\n",
        "input_list = [75, 80, 85, 90, 95]\n",
        "print(calculate_variance(input_list))  \n"
      ]
    },
    {
      "cell_type": "markdown",
      "id": "c660d49b",
      "metadata": {},
      "source": [
        "Я працюю в VS codе і скріншоти додати не виходить \n",
        "\n",
        "апишіть, які промпти (інструкції) при зверненні до ChatGPT ви застосували та додайте скріншот(-и) з промптами та відповідями чата.  \n",
        "Якщо зробили висновки при виконанні цього завдання, то діліться також :)\n",
        "\n",
        "\n",
        "1. Please review the following Python code for PEP 8 compliance. List all mistakes that you found, and then provide a corrected version of the code strictly acording to the PEP8\n",
        "2. The code must return 50, but it doesn't return anything. Why ?\n"
      ]
    },
    {
      "cell_type": "markdown",
      "id": "34f95a32",
      "metadata": {},
      "source": []
    }
  ],
  "metadata": {
    "colab": {
      "provenance": []
    },
    "kernelspec": {
      "display_name": "Python 3 (ipykernel)",
      "language": "python",
      "name": "python3"
    },
    "language_info": {
      "codemirror_mode": {
        "name": "ipython",
        "version": 3
      },
      "file_extension": ".py",
      "mimetype": "text/x-python",
      "name": "python",
      "nbconvert_exporter": "python",
      "pygments_lexer": "ipython3",
      "version": "3.12.7"
    },
    "toc": {
      "base_numbering": 1,
      "nav_menu": {},
      "number_sections": true,
      "sideBar": true,
      "skip_h1_title": false,
      "title_cell": "Table of Contents",
      "title_sidebar": "Contents",
      "toc_cell": false,
      "toc_position": {},
      "toc_section_display": true,
      "toc_window_display": false
    }
  },
  "nbformat": 4,
  "nbformat_minor": 5
}
