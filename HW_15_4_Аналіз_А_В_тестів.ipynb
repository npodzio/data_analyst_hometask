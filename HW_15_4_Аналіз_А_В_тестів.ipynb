{
  "cells": [
    {
      "cell_type": "markdown",
      "metadata": {
        "ExecuteTime": {
          "end_time": "2022-12-10T17:43:42.137588Z",
          "start_time": "2022-12-10T17:43:42.124712Z"
        },
        "id": "f41183ed"
      },
      "source": [
        "## Аналіз A/B-тестів\n",
        "\n",
        "Ви - аналітик даних в ІТ-компанії і до вас надійшла задача проаналізувати дані A/B тесту в популярній [грі Cookie Cats](https://www.facebook.com/cookiecatsgame). Це - гра-головоломка в стилі «з’єднай три», де гравець повинен з’єднати плитки одного кольору, щоб очистити дошку та виграти рівень. На дошці також зображені співаючі котики :)\n",
        "\n",
        "Під час проходження гри гравці стикаються з воротами, які змушують їх чекати деякий час, перш ніж вони зможуть прогресувати або зробити покупку в додатку.\n",
        "\n",
        "У цьому блоці завдань ми проаналізуємо результати A/B тесту, коли перші ворота в Cookie Cats було переміщено з рівня 30 на рівень 40. Зокрема, ми хочемо зрозуміти, як це вплинуло на утримання (retention) гравців. Тобто хочемо зрозуміти, чи переміщення воріт на 10 рівнів пізніше якимось чином вплинуло на те, що користувачі перестають грати в гру раніше чи пізніше з точки зору кількості їх днів з моменту встановлення гри.\n",
        "\n",
        "Будемо працювати з даними з файлу `cookie_cats.csv`. Колонки в даних наступні:\n",
        "\n",
        "- `userid` - унікальний номер, який ідентифікує кожного гравця.\n",
        "- `version` - чи потрапив гравець в контрольну групу (gate_30 - ворота на 30 рівні) чи тестову групу (gate_40 - ворота на 40 рівні).\n",
        "- `sum_gamerounds` - кількість ігрових раундів, зіграних гравцем протягом першого тижня після встановлення\n",
        "- `retention_1` - чи через 1 день після встановлення гравець повернувся і почав грати?\n",
        "- `retention_7` - чи через 7 днів після встановлення гравець повернувся і почав грати?\n",
        "\n",
        "Коли гравець встановлював гру, його випадковим чином призначали до групи gate_30 або gate_40."
      ]
    },
    {
      "cell_type": "markdown",
      "metadata": {
        "id": "XKhHA3eiueo0"
      },
      "source": [
        "1. Для початку, уявімо, що ми тільки плануємо проведення зазначеного А/B-тесту і хочемо зрозуміти, дані про скількох користувачів нам треба зібрати, аби досягнути відчутного ефекту. Відчутним ефектом ми вважатимемо збільшення утримання на 1% після внесення зміни. Обчисліть, скільки користувачів сумарно нам треба аби досягнути такого ефекту, якщо продакт менеджер нам повідомив, що базове утримання є 19%."
      ]
    },
    {
      "cell_type": "code",
      "execution_count": 16,
      "metadata": {},
      "outputs": [
        {
          "name": "stdout",
          "output_type": "stream",
          "text": [
            "   userid  version  sum_gamerounds  retention_1  retention_7\n",
            "0     116  gate_30               3        False        False\n",
            "1     337  gate_30              38         True        False\n",
            "2     377  gate_40             165         True        False\n",
            "3     483  gate_40               1        False        False\n",
            "4     488  gate_40             179         True         True\n",
            "(90189, 5)\n"
          ]
        }
      ],
      "source": [
        "import pandas as pd\n",
        "\n",
        "\n",
        "FILE_PATH = \"/Users/nataliapodziolkina/Documents/data/cookie_cats.csv\"\n",
        "data = pd.read_csv(FILE_PATH)   \n",
        "\n",
        "print(data.head())\n",
        "print(data.shape)\n"
      ]
    },
    {
      "cell_type": "code",
      "execution_count": 17,
      "metadata": {
        "id": "TcZ32BcIufKU"
      },
      "outputs": [
        {
          "name": "stdout",
          "output_type": "stream",
          "text": [
            "Розмір ефекту (Cohen's h): -0.0252\n",
            "Необхідна кількість користувачів у кожній групі: 24638\n",
            "Сумарна кількість користувачів: 49276\n"
          ]
        }
      ],
      "source": [
        "from statsmodels.stats.power import NormalIndPower\n",
        "from statsmodels.stats.proportion import proportion_effectsize\n",
        "\n",
        "# Вхідні дані\n",
        "p1 = 0.19     # базове утримання\n",
        "p2 = 0.20     # очікуване після змін\n",
        "alpha = 0.05  # рівень значущості\n",
        "power = 0.8   # потужність тесту\n",
        "\n",
        "# 1. Обчислення розміру ефекту (Cohen’s h)\n",
        "effect_size = proportion_effectsize(p1, p2)\n",
        "\n",
        "# 2. Розрахунок потрібного обсягу вибірки\n",
        "analysis = NormalIndPower()\n",
        "n_per_group = analysis.solve_power(effect_size=effect_size, power=power, alpha=alpha, alternative='two-sided')\n",
        "\n",
        "# 3. Сумарна кількість користувачів\n",
        "total_n = n_per_group * 2\n",
        "\n",
        "print(f\"Розмір ефекту (Cohen's h): {effect_size:.4f}\")\n",
        "print(f\"Необхідна кількість користувачів у кожній групі: {n_per_group:.0f}\")\n",
        "print(f\"Сумарна кількість користувачів: {total_n:.0f}\")\n",
        "\n"
      ]
    },
    {
      "cell_type": "markdown",
      "metadata": {
        "id": "22f03df4"
      },
      "source": [
        "2. Зчитайте дані АВ тесту у змінну `df` та виведіть середнє значення показника показник `retention_7` (утримання на 7 день) по версіям гри. Сформулюйте гіпотезу: яка версія дає краще утримання через 7 днів після встановлення гри?"
      ]
    },
    {
      "cell_type": "code",
      "execution_count": 18,
      "metadata": {
        "id": "MVzMTs-jh22b"
      },
      "outputs": [
        {
          "name": "stdout",
          "output_type": "stream",
          "text": [
            "Середнє утримання через 7 днів по версіях:\n",
            "version\n",
            "gate_30    0.190201\n",
            "gate_40    0.182000\n",
            "Name: retention_7, dtype: float64\n"
          ]
        }
      ],
      "source": [
        "\n",
        "df = pd.read_csv('cookie_cats.csv')\n",
        "\n",
        "# 2. середнє значення показника показник `retention_7`\n",
        "retention_by_version = df.groupby('version')['retention_7'].mean()\n",
        "\n",
        "print(\"Середнє утримання через 7 днів по версіях:\")\n",
        "print(retention_by_version)"
      ]
    },
    {
      "cell_type": "markdown",
      "metadata": {
        "id": "74e9c6ca"
      },
      "source": [
        "3. Перевірте з допомогою пасуючого варіанту z-тесту, чи дає якась з версій гри кращий показник `retention_7` на рівні значущості 0.05. Обчисліть також довірчі інтервали для варіантів до переміщення воріт і після. Виведіть результат у форматі:\n",
        "\n",
        "    ```\n",
        "    z statistic: ...\n",
        "    p-value: ...\n",
        "    Довірчий інтервал 95% для групи control: [..., ...]\n",
        "    Довірчий інтервал 95% для групи treatment: [..., ...]\n",
        "    ```\n",
        "\n",
        "    де замість `...` - обчислені значення.\n",
        "    \n",
        "    В якості висновку дайте відповідь на два питання:  \n",
        "\n",
        "      1. Чи є статистична значущою різниця між поведінкою користувачів у різних версіях гри?   \n",
        "      2. Чи перетинаються довірчі інтервали утримання користувачів з різних версій гри? Про що це каже?  \n"
      ]
    },
    {
      "cell_type": "code",
      "execution_count": 19,
      "metadata": {
        "id": "kXQE4gyjh5MS"
      },
      "outputs": [
        {
          "name": "stdout",
          "output_type": "stream",
          "text": [
            "z statistic: 3.164\n",
            "p-value: 0.0016\n",
            "Довірчий інтервал 95% для групи control: [0.1866, 0.1938]\n",
            "Довірчий інтервал 95% для групи treatment: [0.1785, 0.1855]\n"
          ]
        }
      ],
      "source": [
        "from statsmodels.stats.proportion import proportions_ztest, proportion_confint\n",
        "\n",
        "# Підрахунок кількості \"успіхів\" (гравців, що повернулися) та загальної кількості у кожній групі\n",
        "successes = df.groupby('version')['retention_7'].sum()\n",
        "nobs = df.groupby('version')['retention_7'].count()\n",
        "\n",
        "# Z-тест для двох пропорцій (двосторонній)\n",
        "z_stat, p_val = proportions_ztest(successes, nobs, alternative='two-sided')\n",
        "\n",
        "# Довірчі інтервали 95% для кожної групи\n",
        "confint_control = proportion_confint(successes['gate_30'], nobs['gate_30'], alpha=0.05, method='normal')\n",
        "confint_treatment = proportion_confint(successes['gate_40'], nobs['gate_40'], alpha=0.05, method='normal')\n",
        "\n",
        "print(f\"z statistic: {z_stat:.3f}\")\n",
        "print(f\"p-value: {p_val:.4f}\")\n",
        "print(f\"Довірчий інтервал 95% для групи control: [{confint_control[0]:.4f}, {confint_control[1]:.4f}]\")\n",
        "print(f\"Довірчий інтервал 95% для групи treatment: [{confint_treatment[0]:.4f}, {confint_treatment[1]:.4f}]\")\n"
      ]
    },
    {
      "cell_type": "markdown",
      "metadata": {
        "ExecuteTime": {
          "end_time": "2022-12-10T20:50:10.709766Z",
          "start_time": "2022-12-10T20:50:10.639999Z"
        },
        "id": "076cd867"
      },
      "source": [
        "4. Виконайте тест Хі-квадрат на рівні значущості 5% аби визначити, чи є залежність між версією гри та утриманням гравця на 7ий день після реєстрації.\n",
        "\n",
        "    - Напишіть, як для цього тесту будуть сформульовані гіпотези.\n",
        "    - Проведіть обчислення, виведіть p-значення і напишіть висновок за результатами тесту.\n"
      ]
    },
    {
      "cell_type": "markdown",
      "metadata": {},
      "source": [
        "1. Формулювання гіпотез\n",
        "\n",
        "H₀ (нульова гіпотеза):\n",
        "Версія гри та утримання на 7-й день незалежні.\n",
        "(Переміщення воріт не впливає на те, чи повертається користувач.)\n",
        "\n",
        "H₁ (альтернативна гіпотеза):\n",
        "Версія гри та утримання залежать одна від одної.\n",
        "(Переміщення воріт вплинуло на ймовірність повернення гравців.)"
      ]
    },
    {
      "cell_type": "code",
      "execution_count": 20,
      "metadata": {
        "id": "kcwD-91Fh84n"
      },
      "outputs": [
        {
          "name": "stdout",
          "output_type": "stream",
          "text": [
            "Таблиця частот:\n",
            "retention_7  False  True \n",
            "version                  \n",
            "gate_30      36198   8502\n",
            "gate_40      37210   8279 \n",
            "\n",
            "χ² statistic: 9.9591\n",
            "Degrees of freedom: 1\n",
            "p-value: 0.0016\n"
          ]
        }
      ],
      "source": [
        "\n",
        "from scipy.stats import chi2_contingency\n",
        "\n",
        "# Спостережувані частоти\n",
        "contingency = pd.crosstab(df['version'], df['retention_7'])\n",
        "print(\"Таблиця частот:\")\n",
        "print(contingency, \"\\n\")\n",
        "\n",
        "# Тест Хі-квадрат\n",
        "chi2, p_value, dof, expected = chi2_contingency(contingency)\n",
        "\n",
        "print(f\"χ² statistic: {chi2:.4f}\")\n",
        "print(f\"Degrees of freedom: {dof}\")\n",
        "print(f\"p-value: {p_value:.4f}\")\n"
      ]
    }
  ],
  "metadata": {
    "colab": {
      "provenance": []
    },
    "kernelspec": {
      "display_name": "Python 3",
      "name": "python3"
    },
    "language_info": {
      "codemirror_mode": {
        "name": "ipython",
        "version": 3
      },
      "file_extension": ".py",
      "mimetype": "text/x-python",
      "name": "python",
      "nbconvert_exporter": "python",
      "pygments_lexer": "ipython3",
      "version": "3.12.7"
    }
  },
  "nbformat": 4,
  "nbformat_minor": 0
}
