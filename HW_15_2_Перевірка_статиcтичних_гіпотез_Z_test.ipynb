{
  "cells": [
    {
      "cell_type": "markdown",
      "id": "e152f6d6",
      "metadata": {
        "ExecuteTime": {
          "end_time": "2022-12-10T14:29:24.703416Z",
          "start_time": "2022-12-10T14:29:24.688485Z"
        },
        "id": "e152f6d6"
      },
      "source": [
        "#Перевірка статиcтичних гіпотез. Z-test.\n",
        "\n"
      ]
    },
    {
      "cell_type": "markdown",
      "id": "cd404683",
      "metadata": {
        "id": "cd404683"
      },
      "source": [
        "0. Зчитайте дані з `data.csv` у змінну data, яка має тип pandas.DataFrame. Ми будемо далі працювати з цією змінною."
      ]
    },
    {
      "cell_type": "code",
      "execution_count": 7,
      "id": "b20b6ba2",
      "metadata": {
        "id": "b20b6ba2"
      },
      "outputs": [
        {
          "name": "stdout",
          "output_type": "stream",
          "text": [
            "   Unnamed: 0       data\n",
            "0           0  17.499453\n",
            "1           1  19.662399\n",
            "2           2   7.182823\n",
            "3           3  29.841625\n",
            "4           4   9.239386\n",
            "(100, 2)\n"
          ]
        }
      ],
      "source": [
        "import pandas as pd\n",
        "\n",
        "\n",
        "FILE_PATH = \"/Users/nataliapodziolkina/Documents/data/data.csv\"\n",
        "data = pd.read_csv(FILE_PATH)   \n",
        "\n",
        "print(data.head())\n",
        "print(data.shape)\n",
        "\n",
        "\n"
      ]
    },
    {
      "cell_type": "markdown",
      "id": "3d06cbbf",
      "metadata": {
        "id": "3d06cbbf"
      },
      "source": [
        "Запустіть код нижче. Для коректної робити всіх подальших методів дані мають бути у вигляді одновимірного `numpy.ndarray` вектора та мати розмірність (100,). Така розмірність означає, що дані - одновимірні (колонка), якщо б розмірність була (100, 1), то дані сприймаються методами як двовимірні (таблиця), хоча для нас виглядати можуть так само."
      ]
    },
    {
      "cell_type": "code",
      "execution_count": 8,
      "id": "cce1632b",
      "metadata": {
        "colab": {
          "base_uri": "https://localhost:8080/"
        },
        "id": "cce1632b",
        "outputId": "2e142439-2a4f-4057-ff9d-e6a4b3d7e955"
      },
      "outputs": [
        {
          "data": {
            "text/plain": [
              "(100,)"
            ]
          },
          "execution_count": 8,
          "metadata": {},
          "output_type": "execute_result"
        }
      ],
      "source": [
        "data = data.data.values\n",
        "data.shape"
      ]
    },
    {
      "cell_type": "markdown",
      "id": "abdcef5d",
      "metadata": {
        "id": "abdcef5d"
      },
      "source": [
        "**Завдання 1**. Зчитані дані - це сума покупок в доларах наших покупців на сайті протягом липня 2025 року.\n",
        "\n",
        "До цього місяця, ми мали продажі в середньому на чек $20.\n",
        "\n",
        "Необхідно зʼясувати, чи вийшло у нас статистично значущо **підвищити** середній чек за липень 2025?\n",
        "\n",
        "Аби дати відповідь - ми проведемо z-test на рівні значущості $\\alpha=0.05$ двома способами. В цьому завданні ми будемо виконувати обчислення \"вручну\" з використанням бібліотек numpy та scipy.stats подібно до прикладу в лекції. Для цього виконайте наступні 7 кроків. Правильне виконання кожного з кроків оцінюється в 1 бал.\n",
        "\n",
        "1. Запишіть параметри задачі у змінні Python:\n",
        "    - `sample_mean` - $\\bar{x}$, середнє значення в вибірці\n",
        "    - `population_mean` - $\\mu_0$, середнє значення в популяції (тобто те, з яким ми порівнюємо середнє вибіркове значення)\n",
        "    - `population_std` - $\\sigma$, вибіркове стандартне відхилення, яке ми вважаємо, що є рівним ст. відх. популяції, адже маємо достатньо велику вибірку.\n",
        "    - `sample_size` - $n$, розмір вибірки\n",
        "    - `alpha` - $\\alpha$ рівень значущості\n",
        "    \n",
        "    **Увага!** Для обчислення стандартного відхилення маємо скористатись функцією `np.std(your_dataframe, ddof=1)`. Чому так - розбираємо в лекції про t-test.\n",
        "\n",
        "\n",
        "2. Визначте для цієї задачі:\n",
        "    - якою є гіпотеза $H_0$\n",
        "    - якою є альтернативна гіпотеза $H_a$\n",
        "    - з яким типом тесту ми маємо справу - лівосторонній, правосторонній чи двосторонній.\n",
        "\n",
        "3. Обчисліть стандартну помилку SE.\n",
        "4. Розрахуйте z-статистику.\n",
        "5. Знайдіть критичне z-значення з допомогою бібліотеки stats.\n",
        "6. Обчисліть p-value з допомогою бібліотеки stats.\n",
        "7. Прийміть рішення, чи відхиляєте ви гіпотезу $H_0$. Для прийняття рішення зробіть і порівняння z-статистики з критичним значенням, і проаналізуйте p-value."
      ]
    },
    {
      "cell_type": "code",
      "execution_count": 9,
      "id": "NX2XezWLdf4t",
      "metadata": {
        "id": "NX2XezWLdf4t"
      },
      "outputs": [
        {
          "name": "stdout",
          "output_type": "stream",
          "text": [
            "Sample mean: 19.378\n",
            "Population std: 6.254\n",
            "Sample size: 100\n",
            "\n",
            "Z-statistic: -0.995\n",
            "Critical Z-value: 1.645\n",
            "p-value: 0.8402\n",
            "\n",
            "❌ Не відхиляю H₀: підвищення середнього чеку не є статистично значущим.\n"
          ]
        }
      ],
      "source": [
        "import numpy as np\n",
        "from scipy import stats\n",
        "\n",
        "# 1. Основні параметри для перевірки гіпотези\n",
        "sample_mean = np.mean(data)                  # середнє значення у вибірці\n",
        "population_mean = 20                         # середній чек до липня\n",
        "population_std = np.std(data, ddof=1)        # стандартне відхилення вибірки (ddof=1)\n",
        "sample_size = len(data)                      # розмір вибірки\n",
        "alpha = 0.05                                 # рівень значущості\n",
        "\n",
        "print(\"Sample mean:\", round(sample_mean, 3))\n",
        "print(\"Population std:\", round(population_std, 3))\n",
        "print(\"Sample size:\", sample_size)\n",
        "\n",
        "# 2. Гіпотеза:\n",
        "# H0: μ = 20  → середній чек не змінився\n",
        "# H1: μ > 20  → середній чек збільшився\n",
        "# Тип тесту: правосторонній\n",
        "\n",
        "# 3. Стандартна помилка\n",
        "SE = population_std / np.sqrt(sample_size)\n",
        "\n",
        "# 4. Z-статистика\n",
        "z_stat = (sample_mean - population_mean) / SE\n",
        "\n",
        "# 5. Критичне Z-значення для правостороннього тесту\n",
        "z_crit = stats.norm.ppf(1 - alpha)\n",
        "\n",
        "# 6. p-value\n",
        "p_value = 1 - stats.norm.cdf(z_stat)\n",
        "\n",
        "# 7. Висновок\n",
        "print(\"\\nZ-statistic:\", round(z_stat, 3))\n",
        "print(\"Critical Z-value:\", round(z_crit, 3))\n",
        "print(\"p-value:\", round(p_value, 4))\n",
        "\n",
        "if z_stat > z_crit and p_value < alpha:\n",
        "    print(\"\\n✅ Відхиляю H₀: середній чек статистично значуще збільшився.\")\n",
        "else:\n",
        "    print(\"\\n❌ Не відхиляю H₀: підвищення середнього чеку не є статистично значущим.\")\n"
      ]
    },
    {
      "cell_type": "markdown",
      "id": "0FOBByRMXkL2",
      "metadata": {
        "id": "0FOBByRMXkL2"
      },
      "source": [
        "**Завдання 2.** Виконайте обчислення z-test з використанням бібліотеки statsmodels.\n",
        "\n",
        "Отримайте z-статистику та р-значення.\n",
        "\n",
        "Виведіть p-значення та зробіть висновок, чи ми маємо достатньо доказів, аби стверджувати, що середній чек зріс.\n",
        "\n",
        "Чи зійшлись значення z-статистику та р-значення в цьому завданні з попередніми обчисленнями?\n",
        "\n",
        "Завдання оцінюється в 3 бали."
      ]
    },
    {
      "cell_type": "code",
      "execution_count": 10,
      "id": "f_Oa0DJhdg6v",
      "metadata": {
        "id": "f_Oa0DJhdg6v"
      },
      "outputs": [
        {
          "name": "stdout",
          "output_type": "stream",
          "text": [
            "Z-statistic (statsmodels): -0.995\n",
            "p-value (statsmodels): 0.8402\n",
            "\n",
            "❌ Не відхиляю H₀: немає достатньо доказів, що середній чек зріс.\n",
            "\n",
            "Порівняння з попереднім завданням:\n",
            "Z з обчислень вручну = -0.995, зі statsmodels = -0.995\n",
            "P-value вручну = 0.8402, зі statsmodels = 0.8402\n"
          ]
        }
      ],
      "source": [
        "from statsmodels.stats.weightstats import ztest\n",
        "\n",
        "# Альтернативна гіпотеза — середній чек більший за 20 \n",
        "z_stat2, p_value2 = ztest(data, value=20, alternative='larger')\n",
        "\n",
        "print(\"Z-statistic (statsmodels):\", round(z_stat2, 3))\n",
        "print(\"p-value (statsmodels):\", round(p_value2, 4))\n",
        "\n",
        "# Висновок \n",
        "if p_value2 < 0.05:\n",
        "    print(\"\\n✅ Відхиляю H₀: середній чек статистично значуще зріс.\")\n",
        "else:\n",
        "    print(\"\\n❌ Не відхиляю H₀: немає достатньо доказів, що середній чек зріс.\")\n",
        "\n",
        "# Перевірка, чи зійшлись результати з ручними обчисленнями\n",
        "print(\"\\nПорівняння з попереднім завданням:\")\n",
        "print(f\"Z з обчислень вручну = {round(z_stat, 3)}, зі statsmodels = {round(z_stat2, 3)}\")\n",
        "print(f\"P-value вручну = {round(p_value, 4)}, зі statsmodels = {round(p_value2, 4)}\")\n"
      ]
    }
  ],
  "metadata": {
    "colab": {
      "provenance": []
    },
    "hide_input": false,
    "kernelspec": {
      "display_name": "Python 3 (ipykernel)",
      "language": "python",
      "name": "python3"
    },
    "language_info": {
      "codemirror_mode": {
        "name": "ipython",
        "version": 3
      },
      "file_extension": ".py",
      "mimetype": "text/x-python",
      "name": "python",
      "nbconvert_exporter": "python",
      "pygments_lexer": "ipython3",
      "version": "3.12.7"
    },
    "toc": {
      "base_numbering": 1,
      "nav_menu": {},
      "number_sections": true,
      "sideBar": true,
      "skip_h1_title": false,
      "title_cell": "Table of Contents",
      "title_sidebar": "Contents",
      "toc_cell": false,
      "toc_position": {},
      "toc_section_display": true,
      "toc_window_display": false
    },
    "varInspector": {
      "cols": {
        "lenName": 16,
        "lenType": 16,
        "lenVar": 40
      },
      "kernels_config": {
        "python": {
          "delete_cmd_postfix": "",
          "delete_cmd_prefix": "del ",
          "library": "var_list.py",
          "varRefreshCmd": "print(var_dic_list())"
        },
        "r": {
          "delete_cmd_postfix": ") ",
          "delete_cmd_prefix": "rm(",
          "library": "var_list.r",
          "varRefreshCmd": "cat(var_dic_list()) "
        }
      },
      "types_to_exclude": [
        "module",
        "function",
        "builtin_function_or_method",
        "instance",
        "_Feature"
      ],
      "window_display": false
    }
  },
  "nbformat": 4,
  "nbformat_minor": 5
}
