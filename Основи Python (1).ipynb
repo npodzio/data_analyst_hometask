{
 "cells": [
  {
   "cell_type": "markdown",
   "metadata": {},
   "source": [
    "# "
   ]
  },
  {
   "cell_type": "markdown",
   "metadata": {
    "id": "tvPKWXfD7yRv"
   },
   "source": [
    "#Домашнє завдання до теми \"Синтаксис Python\"\n",
    "\n",
    "В ДЗ першого модулю важливою умовою виконання завдань є те, що ми не імпортуємо жодних бібліотек, а робимо все на чистому Python, використовуючи лише базовий функціонал. Це необхідно аби відпрацювати роботу з базовими типами даних. А використовувати бібліотеки ми ще навчимось далі :)"
   ]
  },
  {
   "cell_type": "markdown",
   "metadata": {
    "id": "xE1KHmUbQVbC"
   },
   "source": [
    "1. Створіть змінну, яка буде зберігати кількість яблук. І надайте їй значення 5. Виведіть значення змінної на екран."
   ]
  },
  {
   "cell_type": "code",
   "execution_count": 1,
   "metadata": {
    "execution": {
     "iopub.execute_input": "2025-06-09T17:36:41.581542Z",
     "iopub.status.busy": "2025-06-09T17:36:41.579695Z",
     "iopub.status.idle": "2025-06-09T17:36:41.586267Z",
     "shell.execute_reply": "2025-06-09T17:36:41.585468Z",
     "shell.execute_reply.started": "2025-06-09T17:36:41.581418Z"
    },
    "id": "iz5QpN-vQUtN"
   },
   "outputs": [],
   "source": [
    "apple_quantity = 5"
   ]
  },
  {
   "cell_type": "code",
   "execution_count": 2,
   "metadata": {
    "execution": {
     "iopub.execute_input": "2025-06-09T17:36:53.606913Z",
     "iopub.status.busy": "2025-06-09T17:36:53.606350Z",
     "iopub.status.idle": "2025-06-09T17:36:53.613955Z",
     "shell.execute_reply": "2025-06-09T17:36:53.613243Z",
     "shell.execute_reply.started": "2025-06-09T17:36:53.606848Z"
    }
   },
   "outputs": [
    {
     "data": {
      "text/plain": [
       "5"
      ]
     },
     "execution_count": 2,
     "metadata": {},
     "output_type": "execute_result"
    }
   ],
   "source": [
    "apple_quantity"
   ]
  },
  {
   "cell_type": "markdown",
   "metadata": {
    "id": "wx6RsBHAQd9q"
   },
   "source": [
    "2. Виведіть тип змінної, створеної в завданні (1)."
   ]
  },
  {
   "cell_type": "code",
   "execution_count": 3,
   "metadata": {
    "execution": {
     "iopub.execute_input": "2025-06-09T17:37:56.736159Z",
     "iopub.status.busy": "2025-06-09T17:37:56.734798Z",
     "iopub.status.idle": "2025-06-09T17:37:56.743491Z",
     "shell.execute_reply": "2025-06-09T17:37:56.742774Z",
     "shell.execute_reply.started": "2025-06-09T17:37:56.736086Z"
    },
    "id": "f48l2PhiQi86"
   },
   "outputs": [
    {
     "data": {
      "text/plain": [
       "int"
      ]
     },
     "execution_count": 3,
     "metadata": {},
     "output_type": "execute_result"
    }
   ],
   "source": [
    "type(apple_quantity)"
   ]
  },
  {
   "cell_type": "markdown",
   "metadata": {
    "id": "UEc59pPcQnva"
   },
   "source": [
    "3. Додайте до значення змінної, створеної в завданні (1) число `12` і виведіть результат на екран з допомогою команди `print()`."
   ]
  },
  {
   "cell_type": "code",
   "execution_count": 4,
   "metadata": {
    "execution": {
     "iopub.execute_input": "2025-06-09T17:38:31.975276Z",
     "iopub.status.busy": "2025-06-09T17:38:31.974831Z",
     "iopub.status.idle": "2025-06-09T17:38:31.981034Z",
     "shell.execute_reply": "2025-06-09T17:38:31.980462Z",
     "shell.execute_reply.started": "2025-06-09T17:38:31.975250Z"
    },
    "id": "gu-vkERpQoCY"
   },
   "outputs": [
    {
     "name": "stdout",
     "output_type": "stream",
     "text": [
      "17\n"
     ]
    }
   ],
   "source": [
    "print(apple_quantity + 12)"
   ]
  },
  {
   "cell_type": "markdown",
   "metadata": {
    "id": "yOztaNuqqcMy"
   },
   "source": [
    "4. Запустіть код нижче аби створити дві змінні."
   ]
  },
  {
   "cell_type": "code",
   "execution_count": 7,
   "metadata": {
    "execution": {
     "iopub.execute_input": "2025-06-09T18:15:39.877683Z",
     "iopub.status.busy": "2025-06-09T18:15:39.876901Z",
     "iopub.status.idle": "2025-06-09T18:15:39.881718Z",
     "shell.execute_reply": "2025-06-09T18:15:39.881238Z",
     "shell.execute_reply.started": "2025-06-09T18:15:39.877645Z"
    },
    "id": "kbXeQSgcqncV"
   },
   "outputs": [],
   "source": [
    "a = 48\n",
    "b = 3"
   ]
  },
  {
   "cell_type": "markdown",
   "metadata": {
    "id": "9ojIRMw3qvw8"
   },
   "source": [
    "Створіть нову клітинку нижче цієї з допомогою натискання англійської літери `B`, коли ви НЕ в режимі редагування клітинки. В створеній клітинці створіть змінну `c`, яка буде містити результат ділення `a` на `b`."
   ]
  },
  {
   "cell_type": "code",
   "execution_count": 24,
   "metadata": {
    "execution": {
     "iopub.execute_input": "2025-06-09T18:23:42.257443Z",
     "iopub.status.busy": "2025-06-09T18:23:42.256980Z",
     "iopub.status.idle": "2025-06-09T18:23:42.260983Z",
     "shell.execute_reply": "2025-06-09T18:23:42.260440Z",
     "shell.execute_reply.started": "2025-06-09T18:23:42.257417Z"
    }
   },
   "outputs": [
    {
     "name": "stdout",
     "output_type": "stream",
     "text": [
      "48 <class 'int'> 3 <class 'int'> 16.0 <class 'float'>\n"
     ]
    }
   ],
   "source": [
    "print (\n",
    "a, type(a),\n",
    "b, type(b),\n",
    "c, type(c) )"
   ]
  },
  {
   "cell_type": "code",
   "execution_count": 16,
   "metadata": {
    "execution": {
     "iopub.execute_input": "2025-06-09T18:20:14.550434Z",
     "iopub.status.busy": "2025-06-09T18:20:14.549994Z",
     "iopub.status.idle": "2025-06-09T18:20:14.552990Z",
     "shell.execute_reply": "2025-06-09T18:20:14.552539Z",
     "shell.execute_reply.started": "2025-06-09T18:20:14.550413Z"
    }
   },
   "outputs": [],
   "source": [
    "c=a/b"
   ]
  },
  {
   "cell_type": "code",
   "execution_count": 17,
   "metadata": {
    "execution": {
     "iopub.execute_input": "2025-06-09T18:20:16.469373Z",
     "iopub.status.busy": "2025-06-09T18:20:16.469059Z",
     "iopub.status.idle": "2025-06-09T18:20:16.472306Z",
     "shell.execute_reply": "2025-06-09T18:20:16.471716Z",
     "shell.execute_reply.started": "2025-06-09T18:20:16.469352Z"
    },
    "scrolled": true
   },
   "outputs": [
    {
     "name": "stdout",
     "output_type": "stream",
     "text": [
      "16.0\n"
     ]
    }
   ],
   "source": [
    "print(c)"
   ]
  },
  {
   "cell_type": "markdown",
   "metadata": {
    "id": "XcmIZ24wq4px"
   },
   "source": [
    "Створіть ще одну нову клітинку, тільки тепер вище цієї. Для цього натисніть  англійську літеру `A`, коли ви НЕ в режимі редагування клітинки. Виведіть в новоствореній клітинці значення і тип кожної зі змінних `a`, `b`, `c`. Проаналізуйте результат.\n"
   ]
  },
  {
   "cell_type": "markdown",
   "metadata": {
    "id": "v9rj7B4-sGaG"
   },
   "source": [
    "У Python, коли ви ділите одне ціле число на інше, результат буде автоматично приведений до типу float, якщо він не є цілим числом. Це робиться для того, щоб забезпечити більш точний результат ділення, особливо коли результат міг би бути десятковим числом."
   ]
  },
  {
   "cell_type": "markdown",
   "metadata": {
    "id": "irjcdM8puaEx"
   },
   "source": [
    "5. Перегляньте наступний код, подумайте, що він виведе в результаті, та потім, запустіть його."
   ]
  },
  {
   "cell_type": "code",
   "execution_count": 17,
   "metadata": {
    "execution": {
     "iopub.execute_input": "2025-06-09T17:55:16.590430Z",
     "iopub.status.busy": "2025-06-09T17:55:16.589067Z",
     "iopub.status.idle": "2025-06-09T17:55:16.599736Z",
     "shell.execute_reply": "2025-06-09T17:55:16.598932Z",
     "shell.execute_reply.started": "2025-06-09T17:55:16.590326Z"
    },
    "id": "KmhCY0ttt8rW"
   },
   "outputs": [
    {
     "data": {
      "text/plain": [
       "38"
      ]
     },
     "execution_count": 17,
     "metadata": {},
     "output_type": "execute_result"
    }
   ],
   "source": [
    "a = 10\n",
    "a = 12\n",
    "a = 15\n",
    "\n",
    "b = 4\n",
    "b = 8\n",
    "b = 14\n",
    "\n",
    "c = 3\n",
    "c = 6\n",
    "c = 9\n",
    "\n",
    "\n",
    "a + b + c"
   ]
  },
  {
   "cell_type": "markdown",
   "metadata": {
    "id": "JrUTyGyQufwq"
   },
   "source": [
    "В клітинці нижче закоментуйте деякі рядки так, аби в результаті виконання останнього рядка коду (`a + b + c`) вивелось `17`.\n",
    "Увага! Рядки треба саме закоментувати, а не видалити.\n",
    "Можна зручно коментувати рядки з допомогою комбінації клавіш `Ctrl + /` (`Command + /` для Mac)"
   ]
  },
  {
   "cell_type": "code",
   "execution_count": 13,
   "metadata": {
    "execution": {
     "iopub.execute_input": "2025-06-09T17:47:59.389565Z",
     "iopub.status.busy": "2025-06-09T17:47:59.389028Z",
     "iopub.status.idle": "2025-06-09T17:47:59.397968Z",
     "shell.execute_reply": "2025-06-09T17:47:59.396968Z",
     "shell.execute_reply.started": "2025-06-09T17:47:59.389527Z"
    },
    "id": "R4VXgSQKwVoc"
   },
   "outputs": [
    {
     "data": {
      "text/plain": [
       "17"
      ]
     },
     "execution_count": 13,
     "metadata": {},
     "output_type": "execute_result"
    }
   ],
   "source": [
    "a = 10\n",
    "# a = 12\n",
    "# a = 15\n",
    "\n",
    "b = 4\n",
    "# b = 8\n",
    "# b = 14\n",
    "\n",
    "c = 3\n",
    "# c = 6\n",
    "# c = 9\n",
    "\n",
    "\n",
    "a + b + c"
   ]
  },
  {
   "cell_type": "code",
   "execution_count": null,
   "metadata": {},
   "outputs": [],
   "source": []
  }
 ],
 "metadata": {
  "colab": {
   "provenance": []
  },
  "kernelspec": {
   "display_name": "Python 3 (ipykernel)",
   "language": "python",
   "name": "python3"
  },
  "language_info": {
   "codemirror_mode": {
    "name": "ipython",
    "version": 3
   },
   "file_extension": ".py",
   "mimetype": "text/x-python",
   "name": "python",
   "nbconvert_exporter": "python",
   "pygments_lexer": "ipython3",
   "version": "3.12.7"
  }
 },
 "nbformat": 4,
 "nbformat_minor": 4
}
